{
 "cells": [
  {
   "cell_type": "code",
   "execution_count": 1,
   "metadata": {},
   "outputs": [
    {
     "name": "stdout",
     "output_type": "stream",
     "text": [
      "[[[ 40.  50.  60.]\n",
      "  [ 40.  50.  60.]\n",
      "  [ 40.  50.  60.]\n",
      "  ...\n",
      "  [ 39.  48.  65.]\n",
      "  [ 39.  48.  65.]\n",
      "  [ 39.  48.  65.]]\n",
      "\n",
      " [[ 40.  50.  60.]\n",
      "  [ 40.  50.  60.]\n",
      "  [ 40.  50.  60.]\n",
      "  ...\n",
      "  [ 39.  48.  65.]\n",
      "  [ 39.  48.  65.]\n",
      "  [ 39.  48.  65.]]\n",
      "\n",
      " [[ 40.  50.  60.]\n",
      "  [ 40.  50.  60.]\n",
      "  [ 40.  50.  60.]\n",
      "  ...\n",
      "  [ 39.  48.  65.]\n",
      "  [ 39.  48.  65.]\n",
      "  [ 39.  48.  65.]]\n",
      "\n",
      " ...\n",
      "\n",
      " [[207. 183. 183.]\n",
      "  [207. 183. 183.]\n",
      "  [207. 183. 183.]\n",
      "  ...\n",
      "  [202. 183. 179.]\n",
      "  [202. 183. 179.]\n",
      "  [202. 183. 179.]]\n",
      "\n",
      " [[207. 183. 183.]\n",
      "  [207. 183. 183.]\n",
      "  [207. 183. 183.]\n",
      "  ...\n",
      "  [202. 183. 179.]\n",
      "  [202. 183. 179.]\n",
      "  [202. 183. 179.]]\n",
      "\n",
      " [[207. 183. 183.]\n",
      "  [207. 183. 183.]\n",
      "  [207. 183. 183.]\n",
      "  ...\n",
      "  [202. 183. 179.]\n",
      "  [202. 183. 179.]\n",
      "  [202. 183. 179.]]]\n"
     ]
    }
   ],
   "source": [
    "from tensorflow.keras.preprocessing.image import ImageDataGenerator, array_to_img, img_to_array, load_img\n",
    "\n",
    "datagen = ImageDataGenerator(\n",
    "        rotation_range=40,\n",
    "        width_shift_range=0.2,\n",
    "        height_shift_range=0.2,\n",
    "        shear_range=0.2,\n",
    "        zoom_range=0.2,\n",
    "        horizontal_flip=True,\n",
    "        fill_mode='nearest')\n",
    "\n",
    "img = load_img('catimage.jpg')  # this is a PIL image\n",
    "x = img_to_array(img)  # this is a Numpy array with shape (3, 150, 150)\n",
    "print(x)\n",
    "x = x.reshape((1,) + x.shape)  # this is a Numpy array with shape (1, 3, 150, 150)\n",
    "\n",
    "# the .flow() command below generates batches of randomly transformed images\n",
    "# and saves the results to the `preview/` directory\n",
    "i = 0\n",
    "for batch in datagen.flow(x, batch_size=1,\n",
    "                          save_to_dir='generatedcats', save_prefix='cat', save_format='jpeg'):\n",
    "    i += 1\n",
    "    if i > 20:\n",
    "        break  # otherwise the generator would loop indefinitely"
   ]
  }
 ],
 "metadata": {
  "kernelspec": {
   "display_name": "Python 3",
   "language": "python",
   "name": "python3"
  },
  "language_info": {
   "codemirror_mode": {
    "name": "ipython",
    "version": 3
   },
   "file_extension": ".py",
   "mimetype": "text/x-python",
   "name": "python",
   "nbconvert_exporter": "python",
   "pygments_lexer": "ipython3",
   "version": "3.10.11"
  }
 },
 "nbformat": 4,
 "nbformat_minor": 2
}
